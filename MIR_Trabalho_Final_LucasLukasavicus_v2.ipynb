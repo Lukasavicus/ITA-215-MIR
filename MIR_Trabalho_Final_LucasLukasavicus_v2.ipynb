{
  "cells": [
    {
      "cell_type": "code",
      "execution_count": null,
      "metadata": {
        "id": "B_XN0ReMT1EI"
      },
      "outputs": [],
      "source": [
        "# Lucas Lukasavicus Silva\n",
        "# PPG-PO (ITA/UNIFESP) - Modelagem de Investimento e Risco"
      ]
    },
    {
      "cell_type": "markdown",
      "metadata": {
        "id": "NoeRLkJ1VFtm"
      },
      "source": [
        "# observação: Utilize o template abaixo para colocar os dados da sua anáiise. O Objetivo é montar a análise de uma carteira de investimento utilizando o material produzido em aula (ex. codigos do Python no Colab).\n",
        "# Você poderá utilizadas dados de qualquer setor da economia, desde que realize uma análise condizente nas demais seçòes do trabalho. O que não pode é utilizar o mesmo conjunto de dados utilizado nas aulas. Você poderá fazer, por exemplo, uma análise setorial (ex. empresas de servicos, empresas de tecnologia etc.)\n"
      ]
    },
    {
      "cell_type": "markdown",
      "metadata": {
        "id": "qVFx4XAUT81f"
      },
      "source": [
        "# Aplicação do Framework CAPM para Títulos de Fundos de Investimento Imobiliário (FIIs)"
      ]
    },
    {
      "cell_type": "markdown",
      "metadata": {
        "id": "FMF_VBWrUBCb"
      },
      "source": [
        "> O Framework CAPM tem como base a Teoria Moderna de Portifólios que determina que o risco de um portifólio deve ser menor ou igual ao risco de cada componente individual. A partir dessa observação é possível concluir que a diversificação pode ser uma boa estratégia para a redução do risco sistemico dos seus investimentos.\n",
        "- Definição de risco sistemico e risco não-sistemico;\n",
        "No presente trabalho buscamos utilizar esse framework para comparar 3 carteiras de invesimentos de fundos de investimentos imobiliários.\n",
        "Fundos investimentos imobiliários são títulos de renda variável que investem em imóveis ou em papéis do mercado imobiliário."
      ]
    },
    {
      "cell_type": "markdown",
      "metadata": {
        "id": "9Pks7NaPUFcA"
      },
      "source": [
        "# Introdução"
      ]
    },
    {
      "cell_type": "markdown",
      "metadata": {
        "id": "AALhCNbDUMlh"
      },
      "source": [
        "# Revisão da Literatura\n",
        "\n",
        "aqui você deverá fazer um breve apanhado da literatura baseado nos temas estudados em aula."
      ]
    },
    {
      "cell_type": "markdown",
      "metadata": {
        "id": "6J8wl3LcUaEO"
      },
      "source": [
        "# Materiais e Dados Utilizados\n",
        "\n",
        "Aqui você deverá descrever os dados utilizados e qual foi a forma de análise empregada.\n",
        "Sugestão utilize perídos de no mínimo 5 anos."
      ]
    },
    {
      "cell_type": "markdown",
      "metadata": {
        "id": "s8kOgI1m_4Wm"
      },
      "source": [
        "Notebooks das aulas foram usados para essas análises:\n",
        "\n",
        "- [x] [Analise de Dados das Ações (e visualização)](https://colab.research.google.com/drive/1FacYoypWhN0GcINRvB5twEjQOABJMNSc#scrollTo=uhW6OMmg5mGa)\n",
        "\n",
        "\n",
        "- [x] [Alocação dos Ativos na Carteira e Análise Estatística)](https://colab.research.google.com/drive/18MHexlXjpONCOvw-3R2ML3G8rIDtYpMY)\n",
        "\n",
        "\n",
        "- [x] [CAPM](https://colab.research.google.com/drive/1-CLXlAFzXAJAH3D2U9wiWjm5lfLNkrTW)\n"
      ]
    },
    {
      "cell_type": "markdown",
      "metadata": {
        "id": "3eTW9zGWmjMV"
      },
      "source": [
        "Para realizar as análises, coletamos os dados através de um _Web Crawler_ que obteve os dados do site [Fiis.com.br](https://fiis.com.br/)."
      ]
    },
    {
      "cell_type": "markdown",
      "metadata": {
        "id": "dDuUzSpTnPZQ"
      },
      "source": [
        "### Web Crawler"
      ]
    },
    {
      "cell_type": "code",
      "execution_count": null,
      "metadata": {
        "id": "qHS_peL10OQB"
      },
      "outputs": [],
      "source": [
        "import pandas as pd\n",
        "import numpy as np\n",
        "import requests\n",
        "import json\n",
        "from datetime import datetime\n",
        "import math\n",
        "\n",
        "import matplotlib.pyplot as plt\n",
        "\n",
        "# import numpy as np\n",
        "import seaborn as sns\n",
        "# from copy import copy\n",
        "# from scipy import stats\n",
        "import plotly.express as px\n",
        "import plotly.figure_factory as ff\n",
        "# import plotly.graph_objects as go"
      ]
    },
    {
      "cell_type": "code",
      "execution_count": null,
      "metadata": {
        "id": "Td-2d9TBRLdM"
      },
      "outputs": [],
      "source": [
        "TOP10PORTFOLIO = [\n",
        "    'KNIP11', 'KNCR11', 'HGLG11', 'KNRI11', 'IRDM11', 'XPLG11', 'MXRF11', 'XPML11', 'CPTS11', 'HGRU11'\n",
        "]\n",
        "\n",
        "LAST10PORTFOLIO = [\n",
        "    'VCRI11', 'CYCR11', 'NCHB11', 'VSLH11', 'MORC11', 'SADI11', 'TORD11', 'ARRI11', 'JPPA11', 'CARE11'\n",
        "]\n",
        "\n",
        "ERRS = []"
      ]
    },
    {
      "cell_type": "code",
      "execution_count": null,
      "metadata": {
        "id": "RDKp_imanW7S"
      },
      "outputs": [],
      "source": [
        "\n",
        "URL = \"https://fiis.com.br/wp-json/fiis/v1/funds\"\n",
        "\n",
        "headers={\n",
        "    'User-Agent': 'Mozilla/5.0 (Windows NT 10.0; Win64; x64) AppleWebKit/537.36 (KHTML, like Gecko) Chrome/114.0.0.0 Safari/537.36',\n",
        "    'Referer': 'https://fiis.com.br/vifi11/',\n",
        "\n",
        "    'Accept': 'application/json, text/plain, */*',\n",
        "    'Accept-Language': 'pt-BR,pt;q=0.9,en-US;q=0.8,en;q=0.7,es;q=0.6',\n",
        "    'Cache-Control': 'no-cache',\n",
        "    'Cookie' : '_gcl_au=1.1.1401315928.1687872863; _fbp=fb.2.1687872864000.1852345747; _hjSessionUser_1049683=eyJpZCI6IjlkYmIwMDEzLTRkZGItNWM4Yi05MTllLTllNmZlMzNmMmZiOSIsImNyZWF0ZWQiOjE2ODc4NzI4NjQ3ODMsImV4aXN0aW5nIjp0cnVlfQ==; hubspotutk=5bdace1cc6859174ccd86739f2c67904; __hs_opt_out=no; __hssrc=1; _gid=GA1.3.410425610.1689279073; popup=popup-fiis.com; __hstc=109538586.5bdace1cc6859174ccd86739f2c67904.1687872914435.1689279109575.1689282439215.5; _ga=GA1.1.40554755.1687872863; _hjIncludedInSessionSample_1049683=0; _hjSession_1049683=eyJpZCI6IjRiMzhlZjA4LTc1MjktNDllZi1iYzc0LTNmNGMxOTliYjliNCIsImNyZWF0ZWQiOjE2ODkzNDIyNjQzMTYsImluU2FtcGxlIjpmYWxzZX0=; _hjAbsoluteSessionInProgress=0; _ga_NFCXE4NETS=GS1.1.1689342169.8.1.1689342318.60.0.0',\n",
        "    'Pragma': 'no-cache',\n",
        "    'Sec-Ch-Ua': '\"Not.A/Brand\";v=\"8\", \"Chromium\";v=\"114\", \"Google Chrome\";v=\"114\"',\n",
        "    'Sec-Ch-Ua-Mobile': '?0',\n",
        "    'Sec-Ch-Ua-Platform': '\"Windows\"',\n",
        "    'Sec-Fetch-Dest': 'empty',\n",
        "    'Sec-Fetch-Mode': 'cors',\n",
        "    'Sec-Fetch-Site': 'same-origin',\n",
        "    'User-Agent': 'Mozilla/5.0 (Windows NT 10.0; Win64; x64) AppleWebKit/537.36 (KHTML, like Gecko) Chrome/114.0.0.0 Safari/537.36',\n",
        "    'X-Fiis-Nonce': '61495f60b533cc40ad822e054998a3190ea9bca0d94791a1da',\n",
        "}\n"
      ]
    },
    {
      "cell_type": "code",
      "execution_count": null,
      "metadata": {
        "id": "JBeQSvhCGDyB"
      },
      "outputs": [],
      "source": [
        "def crawl_fii(ticker):\n",
        "  pass\n",
        "\n",
        "def crawl_fii_quotes(ticker):\n",
        "  url = f\"{URL}/{ticker}/quotes\"\n",
        "  req = requests.get(url, headers=headers)\n",
        "\n",
        "  assert req.status_code == 200, \"Something went wrong with request\"\n",
        "  if(req.status_code != 200):\n",
        "    print(req)\n",
        "    raise Exception(\"Something bad happen\")\n",
        "\n",
        "  json_data_str = req.json()\n",
        "  json_data = json.loads(json_data_str)\n",
        "  json_data = json_data[0]\n",
        "  quotes = json.loads(json_data['quotations'])\n",
        "\n",
        "  # remove time from date\n",
        "  for q  in quotes:\n",
        "    q['date'] = datetime.strptime(q['date'][:8], \"%d/%m/%y\")\n",
        "\n",
        "  return pd.DataFrame(quotes)\n",
        "\n",
        "\n",
        "def crawl_fii_yields(ticker):\n",
        "  url = f\"{URL}/{ticker}/incomes\"\n",
        "  req = requests.get(url, headers=headers)\n",
        "\n",
        "  assert req.status_code == 200, \"Something went wrong with request\"\n",
        "  if(req.status_code != 200):\n",
        "    print(req)\n",
        "    raise Exception(\"Something bad happen\")\n",
        "\n",
        "  json_data_str = req.json()\n",
        "  json_data = json.loads(json_data_str)\n",
        "  incomes = json_data['incomes']\n",
        "\n",
        "  # remove time from date\n",
        "  format = '%Y-%m-%d'\n",
        "  for i  in incomes:\n",
        "    i['data_base'] = datetime.strptime(i['data_base'], format)\n",
        "    i['data_pagamento'] = datetime.strptime(i['data_pagamento'], format)\n",
        "\n",
        "  return pd.DataFrame(incomes)\n",
        "\n",
        "def crawl_fii_data(ticker):\n",
        "  q = crawl_fii_quotes(ticker)\n",
        "  y = crawl_fii_yields(ticker)\n",
        "  return q, y"
      ]
    },
    {
      "cell_type": "code",
      "execution_count": null,
      "metadata": {
        "id": "3OFDHdkKFfdU"
      },
      "outputs": [],
      "source": [
        "## TESTE\n",
        "ifix = pd.read_csv('IFIXDia_17-07-23.csv', header=1, encoding='latin1', sep=';', index_col=False)\n",
        "ifix = ifix.drop(ifix.tail(2).index)"
      ]
    },
    {
      "cell_type": "code",
      "execution_count": null,
      "metadata": {
        "id": "gsnHdDrLGKEw"
      },
      "outputs": [],
      "source": [
        "tickers = list(ifix['Código'])"
      ]
    },
    {
      "cell_type": "code",
      "execution_count": null,
      "metadata": {
        "colab": {
          "base_uri": "https://localhost:8080/"
        },
        "id": "UUvOx2GootnQ",
        "outputId": "a19d97ae-3099-46cd-967b-9c01044a4d98"
      },
      "outputs": [],
      "source": [
        "# Given a set of tickers\n",
        "# tickers = TOP10PORTFOLIO + LAST10PORTFOLIO\n",
        "\n",
        "# 1. Crawl their data\n",
        "# ==============================================================================\n",
        "data = []\n",
        "for t in tickers:\n",
        "  # print(f\"getting data for {t}\")\n",
        "  try:\n",
        "    dfq, dfy = crawl_fii_data(t)\n",
        "    data.append({\n",
        "        'ticker' : t,\n",
        "        'quotes' : dfq,\n",
        "        'incomes': dfy\n",
        "    })\n",
        "  except Exception as e:\n",
        "    ERRS.append({'step': 'crawl_fii_data', 'ticker' : t, 'err' : e})\n",
        "# ++++++++++++++++++++++++++++++++++++++++++++++++++++++++++++++++++++++++++++++"
      ]
    },
    {
      "cell_type": "code",
      "execution_count": null,
      "metadata": {
        "colab": {
          "base_uri": "https://localhost:8080/",
          "height": 1000
        },
        "id": "WnH7GYfob9_t",
        "outputId": "7c6fd7b0-6bd6-4415-80c3-754b21eb3ee5"
      },
      "outputs": [],
      "source": [
        "# 2. Join Data\n",
        "# ==============================================================================\n",
        "# Join Data for Prices\n",
        "# Get a set of dates (to join all prices based on these dates)\n",
        "dates = []\n",
        "for d in data:\n",
        "  dts = list(d['quotes']['date'].unique())\n",
        "  dates = list(set(dates+dts))\n",
        "\n",
        "prices_df = pd.DataFrame(dates, columns=['date']).sort_values(by= 'date')\n",
        "\n",
        "for d in data:\n",
        "  quotes = d['quotes']\n",
        "  tckr = d['ticker']\n",
        "  prices_df = pd.merge(prices_df, quotes, on='date', how='left') #, suffixes=('', f\"_{data[0]['ticker']}\"))\n",
        "  prices_df[f\"{tckr}_price\"] = prices_df[\"price\"]\n",
        "  del prices_df[\"price\"]\n",
        "\n",
        "prices_df.set_index('date')\n",
        "# ------------------------------------------------------------------------------\n",
        "dates = []\n",
        "for d in data:\n",
        "  dts = list(d['incomes']['data_pagamento'].unique())\n",
        "  dates = list(set(dates+dts))\n",
        "\n",
        "incomes_df = pd.DataFrame(dates, columns=['data_pagamento']).sort_values(by= 'data_pagamento')\n",
        "\n",
        "for d in data:\n",
        "  incomes = d['incomes'][['data_pagamento', 'rendimento']]\n",
        "  tckr = d['ticker']\n",
        "  incomes_df = pd.merge(incomes_df, incomes, on='data_pagamento', how='left') #, suffixes=('', f\"_{data[0]['ticker']}\"))\n",
        "  incomes_df[f\"{tckr}_rendimento\"] = incomes_df[\"rendimento\"]\n",
        "  del incomes_df[\"rendimento\"]\n",
        "\n",
        "incomes_df.set_index('data_pagamento')\n",
        "# ++++++++++++++++++++++++++++++++++++++++++++++++++++++++++++++++++++++++++++++"
      ]
    },
    {
      "cell_type": "code",
      "execution_count": null,
      "metadata": {
        "id": "pBkODC2JUTiJ"
      },
      "outputs": [],
      "source": [
        "# 3. Export Data\n",
        "incomes_df.to_csv('incomes.csv')\n",
        "prices_df.to_csv('prices.csv')"
      ]
    },
    {
      "cell_type": "code",
      "execution_count": null,
      "metadata": {
        "colab": {
          "base_uri": "https://localhost:8080/",
          "height": 432
        },
        "id": "r3OlSrrsgqo0",
        "outputId": "79df9ff7-7da4-4205-cd15-19ef21b27514"
      },
      "outputs": [],
      "source": [
        "# 4. Import Data\n",
        "from google.colab import drive\n",
        "\n",
        "# if you do not want to execute the whole process, just run this part (be assure to upload the csvs files before proceding)\n",
        "try:\n",
        "  if((incomes_df == None) or (prices_df == None)):\n",
        "    raise Exception('Empty dataframe(s)')\n",
        "except:\n",
        "  # Mount the drive\n",
        "  drive.mount('/content/drive')\n",
        "  incomes_df = pd.read_csv('incomes.csv')\n",
        "  prices_df = pd.read_csv('prices.csv')\n"
      ]
    },
    {
      "cell_type": "code",
      "execution_count": null,
      "metadata": {
        "colab": {
          "base_uri": "https://localhost:8080/",
          "height": 386
        },
        "id": "8zYUII2EXlOf",
        "outputId": "109f39ce-0f78-44de-ee59-45c0e568e684"
      },
      "outputs": [],
      "source": [
        "prices_df.head(5)"
      ]
    },
    {
      "cell_type": "code",
      "execution_count": null,
      "metadata": {
        "colab": {
          "base_uri": "https://localhost:8080/",
          "height": 300
        },
        "id": "qgWHlbBPh_eQ",
        "outputId": "07145234-ca84-4696-d06e-1554d3f5f0cd"
      },
      "outputs": [],
      "source": [
        "incomes_df.head(5)"
      ]
    },
    {
      "cell_type": "markdown",
      "metadata": {
        "id": "yrV3FEBSiJRY"
      },
      "source": [
        "### Análise de Dados\n",
        "\n",
        "Nessa seção vamos analisar os dados coletados para ambas as carteiras baseadas no IFIX"
      ]
    },
    {
      "cell_type": "code",
      "execution_count": null,
      "metadata": {
        "id": "J-MXOrg7itCj"
      },
      "outputs": [],
      "source": [
        "# Quick data clean:\n",
        "for col in prices_df.columns:\n",
        "  if 'Unnamed' in col:\n",
        "    del prices_df[col]"
      ]
    },
    {
      "cell_type": "code",
      "execution_count": null,
      "metadata": {
        "colab": {
          "base_uri": "https://localhost:8080/",
          "height": 845
        },
        "id": "a8SetIPDiLmf",
        "outputId": "71e619fa-64b8-45f4-fe4a-8304bde632e5"
      },
      "outputs": [],
      "source": [
        "tickers = [c[:6] for c in prices_df.columns if '11' in c]\n",
        "print(f\"Fundos analisados: {len(tickers)}\\n\", tickers)\n",
        "\n",
        "print(\"\\n\\n\", \"=\"*50)\n",
        "display(prices_df.describe())\n",
        "\n",
        "print(\"\\n\\n\", \"=\"*50)\n",
        "display(prices_df.isnull().sum())\n",
        "\n",
        "display(prices_df.info())"
      ]
    },
    {
      "cell_type": "code",
      "execution_count": null,
      "metadata": {
        "id": "yXE5Db2rkwyK"
      },
      "outputs": [],
      "source": []
    },
    {
      "cell_type": "code",
      "execution_count": null,
      "metadata": {
        "id": "T3xFlWS3kooE"
      },
      "outputs": [],
      "source": [
        "def show_plot(df, fig_title):\n",
        "  df.plot(x=\"date\",figsize=(15,7), linewidth=3, title=fig_title)\n",
        "  plt.grid()\n",
        "  plt.show()\n",
        "\n",
        "def normalize(df):\n",
        "  x=df.copy()\n",
        "\n",
        "  for i in x.columns[1:]:\n",
        "    x[i]=x[i]/x[i][0]\n",
        "  return x"
      ]
    },
    {
      "cell_type": "code",
      "execution_count": null,
      "metadata": {
        "id": "MTDEpnxwmi2T"
      },
      "outputs": [],
      "source": [
        "def interactive_plot(df, title):\n",
        "  fig=px.line(title =title)\n",
        "  for i in df.columns[1:]:\n",
        "    fig.add_scatter(x=df[\"date\"], y=df[i], name=i)\n",
        "\n",
        "  fig.show()"
      ]
    },
    {
      "cell_type": "code",
      "execution_count": null,
      "metadata": {
        "colab": {
          "base_uri": "https://localhost:8080/",
          "height": 1000
        },
        "id": "JJOiO7sXk4D4",
        "outputId": "9d700ba8-8826-4755-9117-3d75e2914380"
      },
      "outputs": [],
      "source": [
        "show_plot(prices_df, 'Preços dos FIIs x Tempo')"
      ]
    },
    {
      "cell_type": "code",
      "execution_count": null,
      "metadata": {
        "colab": {
          "base_uri": "https://localhost:8080/",
          "height": 1000
        },
        "id": "XEhdkYhwmMBV",
        "outputId": "c6dc6585-2580-4278-b2f5-154d18ca4fe0"
      },
      "outputs": [],
      "source": [
        "show_plot(normalize(prices_df), 'Preços (Normalizados) dos FIIs x Tempo')"
      ]
    },
    {
      "cell_type": "code",
      "execution_count": null,
      "metadata": {
        "colab": {
          "base_uri": "https://localhost:8080/",
          "height": 542
        },
        "id": "836nzecemuJo",
        "outputId": "83bb994e-c902-4c21-9ef6-762d659fe74b"
      },
      "outputs": [],
      "source": [
        "# Plot interactive chart\n",
        "interactive_plot(prices_df, \"Preços (Gráfico Interativo)\")"
      ]
    },
    {
      "cell_type": "code",
      "execution_count": null,
      "metadata": {
        "colab": {
          "base_uri": "https://localhost:8080/",
          "height": 542
        },
        "id": "hGMG8W8-nD5X",
        "outputId": "340ae209-1cfc-4630-eb4e-5eb87ec00e83"
      },
      "outputs": [],
      "source": [
        "# Plot interactive (normalized) chart\n",
        "interactive_plot(normalize(prices_df), \"Preços Normalizados (Gráfico Interativo)\")"
      ]
    },
    {
      "cell_type": "code",
      "execution_count": null,
      "metadata": {
        "id": "g0ZMqA0F0A9O"
      },
      "outputs": [],
      "source": [
        "# Let's define a function to calculate stocks daily returns (for all stocks)\n",
        "def daily_return(df):\n",
        "  df_daily_return=df.copy()\n",
        "\n",
        "  for i in df.columns[1:]:\n",
        "    for j in range(1, len(df)):\n",
        "      df_daily_return[i][j]=((df[i][j]-df[i][j-1])/df[i][j-1])*100\n",
        "    df_daily_return[i][0]=0\n",
        "  return df_daily_return\n"
      ]
    },
    {
      "cell_type": "code",
      "execution_count": null,
      "metadata": {
        "id": "zWPubaY20Bsz"
      },
      "outputs": [],
      "source": [
        "# Get the daily returns\n",
        "prices_daily_return=daily_return(prices_df)"
      ]
    },
    {
      "cell_type": "code",
      "execution_count": null,
      "metadata": {
        "colab": {
          "base_uri": "https://localhost:8080/",
          "height": 661
        },
        "id": "yPONJU7i1wLl",
        "outputId": "1e3cffe6-0b83-4f2d-a691-f222cbbed84b"
      },
      "outputs": [],
      "source": [
        "prices_daily_return"
      ]
    },
    {
      "cell_type": "code",
      "execution_count": null,
      "metadata": {
        "colab": {
          "base_uri": "https://localhost:8080/",
          "height": 1000
        },
        "id": "uSp71NrX1rzX",
        "outputId": "6d78ddbf-548d-4381-c46a-222e86c61102"
      },
      "outputs": [],
      "source": [
        "show_plot(prices_daily_return, \"stocks daily returns\")"
      ]
    },
    {
      "cell_type": "code",
      "execution_count": null,
      "metadata": {
        "colab": {
          "base_uri": "https://localhost:8080/",
          "height": 542
        },
        "id": "Gmris7ns15Sw",
        "outputId": "e35cd688-7249-457f-e1f8-2599579c47fd"
      },
      "outputs": [],
      "source": [
        "interactive_plot(prices_daily_return, \"stocks daily returns\")"
      ]
    },
    {
      "cell_type": "code",
      "execution_count": null,
      "metadata": {
        "colab": {
          "base_uri": "https://localhost:8080/",
          "height": 1000
        },
        "id": "g6hAi-ry2Jk5",
        "outputId": "4a254471-bc0b-41f7-dc14-bec08ddf8d29"
      },
      "outputs": [],
      "source": [
        "# Daily Return Correlation\n",
        "cm = prices_daily_return.drop(columns=[\"date\"]).corr()\n",
        "plt.figure(figsize=(16,16))\n",
        "ax=plt.subplot()\n",
        "sns.heatmap(cm, annot=True);"
      ]
    },
    {
      "cell_type": "code",
      "execution_count": null,
      "metadata": {
        "colab": {
          "base_uri": "https://localhost:8080/",
          "height": 853
        },
        "id": "C9HBKOoH6XvV",
        "outputId": "c0795497-e59a-4838-d216-5ebf2558da07"
      },
      "outputs": [],
      "source": [
        "prices_daily_return.hist(figsize=(10,10),bins=50);"
      ]
    },
    {
      "cell_type": "code",
      "execution_count": null,
      "metadata": {
        "id": "MUeUpU5y6ls0"
      },
      "outputs": [],
      "source": [
        "# Group all data returns together in a list\n",
        "# Make a copy of the daily returns dataframe\n",
        "df_hist=prices_daily_return.copy()\n",
        "\n",
        "df_hist=prices_daily_return.drop(columns=[\"date\"])\n",
        "data=[]\n",
        "\n",
        "df_hist = df_hist.fillna(0)\n",
        "\n",
        "for i in df_hist.columns:\n",
        "  data.append(prices_daily_return[i].values)\n"
      ]
    },
    {
      "cell_type": "code",
      "execution_count": null,
      "metadata": {
        "id": "iCG64A3z-aUH"
      },
      "outputs": [],
      "source": [
        "data_without_nan = []\n",
        "for d in data:\n",
        "  dd = [(0 if(math.isnan(di)) else di) for di in d]\n",
        "  data_without_nan.append(dd)"
      ]
    },
    {
      "cell_type": "code",
      "execution_count": null,
      "metadata": {
        "colab": {
          "base_uri": "https://localhost:8080/",
          "height": 542
        },
        "id": "cGIuBwG76pzc",
        "outputId": "562899c4-41e3-4982-bc11-e7cc84abf5e1"
      },
      "outputs": [],
      "source": [
        "fig = ff.create_distplot(data_without_nan, df_hist.columns)\n",
        "fig.show();"
      ]
    },
    {
      "cell_type": "markdown",
      "metadata": {
        "id": "Tbjx-ptzuzBq"
      },
      "source": [
        "#### Economical Data Analysis:\n",
        "\n",
        "> TODO:\n",
        "\n",
        "- [x] Index Calculation;\n",
        "- [x] Allocation;\n",
        "- [x] Portfolio Daily Return;\n",
        "- [x] Portfolio Worth Calculation;\n",
        "- [x] Portfolio Data Viz;\n",
        "- [x] Portfolio Statistical Metrics:\n",
        "  - [x] CUMMULATIVE RETURN;\n",
        "  - [x] AVERAGE DAILY RETURN;\n",
        "  - [x] SHARPE RATIO\n",
        "  \n",
        "---\n",
        "\n",
        "#### CAPM:\n",
        "\n",
        "> TODO:\n",
        "\n",
        "- [x] Calculate beta for a single asset (demo);\n",
        "- [x] Apply CAPM for a single asset;\n",
        "- [x] Calculate beta for all assets;\n",
        "- [ ] Calculate beta for a portfolio;\n",
        "\n",
        "---\n",
        "\n",
        "#### Wrap Up:\n",
        "\n",
        "> TODO:\n",
        "\n",
        "- [ ] Copy notebook;\n",
        "- [ ] Write intro;\n",
        "- [ ] Write Resume;\n",
        "- [ ] Clean code cells;\n",
        "- [ ] Get 2 different portfolios to run the analysis;\n",
        "- [ ] Write Conclusions;"
      ]
    },
    {
      "cell_type": "markdown",
      "metadata": {
        "id": "1u7c7F_cN-FI"
      },
      "source": [
        "### Index Calculation, Portfolio and Metrics"
      ]
    },
    {
      "cell_type": "code",
      "execution_count": null,
      "metadata": {
        "id": "q2HwItCz60xm"
      },
      "outputs": [],
      "source": [
        "# ifix['Qtde. Teórica']\n",
        "# sum(ifix['Part. (%)'])\n",
        "ifix['part'] = ifix['Part. (%)'].apply(lambda x : float(x.replace(',', '.')))\n",
        "ifix['theorical_qnt'] = ifix['Qtde. Teórica'].apply(lambda x : int(x.replace('.', '')))\n",
        "M = sum(ifix['theorical_qnt'])\n",
        "ifix['participation'] = ifix['theorical_qnt'] / M"
      ]
    },
    {
      "cell_type": "code",
      "execution_count": null,
      "metadata": {
        "colab": {
          "base_uri": "https://localhost:8080/",
          "height": 386
        },
        "id": "7q5mAbY8KtdD",
        "outputId": "e52eac8f-a585-446c-f66f-f65c7991c5aa"
      },
      "outputs": [],
      "source": [
        "prices_df.head()"
      ]
    },
    {
      "cell_type": "code",
      "execution_count": null,
      "metadata": {
        "colab": {
          "base_uri": "https://localhost:8080/"
        },
        "id": "oY9e_ddwInUg",
        "outputId": "4d4a1e50-3083-44f1-85ba-8dd3314374f1"
      },
      "outputs": [],
      "source": [
        "prices_ifix_df = pd.DataFrame()\n",
        "prices_ifix_df['date'] = prices_df['date']\n",
        "# prices_df.columns[1:]\n",
        "tickers_and_parts_ifix = list(zip(ifix['Código'], ifix['part']))\n",
        "\n",
        "for t, p in tickers_and_parts_ifix:\n",
        "  k = f\"{t}_price\"\n",
        "  try:\n",
        "    prices_ifix_df[t] =  prices_df[k] * p\n",
        "  except Exception as e:\n",
        "    ERRS.append({'step': 'ifix_composition', 'ticker' : t, 'err' : e})\n",
        "    # errs.append(t)"
      ]
    },
    {
      "cell_type": "code",
      "execution_count": null,
      "metadata": {
        "colab": {
          "base_uri": "https://localhost:8080/"
        },
        "id": "7-wgSxDXLA8k",
        "outputId": "07ce84c4-b1a8-4123-cf69-dee84a9145ff"
      },
      "outputs": [],
      "source": [
        "all_prices_ifix = prices_ifix_df.sum(axis=1)\n",
        "ifix_prices = pd.DataFrame()\n",
        "ifix_prices['date'] = prices_ifix_df['date']\n",
        "ifix_prices['IFIX_price'] = all_prices_ifix"
      ]
    },
    {
      "cell_type": "code",
      "execution_count": null,
      "metadata": {
        "id": "KJyRQM1aMF4W"
      },
      "outputs": [],
      "source": [
        "final_prices = pd.merge(prices_df, ifix_prices, on='date')\n",
        "final_prices.to_csv('final_prices.csv')"
      ]
    },
    {
      "cell_type": "code",
      "execution_count": null,
      "metadata": {
        "id": "qvEh9_5AOGy5"
      },
      "outputs": [],
      "source": [
        "def portfolio_allocation(df_portfolio, df_stocks, weights, budget):\n",
        "  _df_portfolio = df_portfolio.copy()\n",
        "  _df_stocks    = df_stocks.copy()\n",
        "\n",
        "  for counter, stock in enumerate(_df_portfolio.columns[1:]):\n",
        "    _df_portfolio[stock] = _df_portfolio[stock] * weights[counter]\n",
        "    _df_portfolio[stock] = _df_portfolio[stock] * budget\n",
        "\n",
        "  _df_portfolio[\"portfolio daily worth $\"]=_df_portfolio[_df_portfolio != \"Date\"].sum(axis=1)\n",
        "  _df_portfolio['Portfolio % return']=0.0000\n",
        "\n",
        "  for i in range(1, len(_df_stocks)):\n",
        "    _df_portfolio['Portfolio % return'][i]=((_df_portfolio['portfolio daily worth $'][i]-_df_portfolio['portfolio daily worth $'][i-1])/_df_portfolio['portfolio daily worth $'][i-1])*100\n",
        "\n",
        "  _df_portfolio['Portfolio % return'][0]=0\n",
        "\n",
        "  return _df_portfolio"
      ]
    },
    {
      "cell_type": "code",
      "execution_count": null,
      "metadata": {
        "colab": {
          "base_uri": "https://localhost:8080/"
        },
        "id": "orENJUqWPsge",
        "outputId": "58ceda46-a5bd-443c-848b-d89ecad8c10b"
      },
      "outputs": [],
      "source": [
        "prices_df.shape[1]"
      ]
    },
    {
      "cell_type": "code",
      "execution_count": null,
      "metadata": {
        "colab": {
          "base_uri": "https://localhost:8080/"
        },
        "id": "0l_rH9fEPpKC",
        "outputId": "aa4a61a6-a187-46e8-81af-99faa4026a1e"
      },
      "outputs": [],
      "source": [
        "NO_ASSETS = prices_df.shape[1] - 1 # Excluding 'date' colunm\n",
        "np.random.seed(101)\n",
        "weights=np.array(np.random.random(NO_ASSETS))\n",
        "weights=weights/np.sum(weights)\n",
        "\n",
        "print(weights)"
      ]
    },
    {
      "cell_type": "code",
      "execution_count": null,
      "metadata": {
        "colab": {
          "base_uri": "https://localhost:8080/"
        },
        "id": "uUmEUSS8OUd4",
        "outputId": "8f613597-849e-46c3-db5f-06e46fa7b3f2"
      },
      "outputs": [],
      "source": [
        "df_portfolio = normalize(prices_df)\n",
        "\n",
        "BUDGET = 1000000\n",
        "df_portfolio_allocated = portfolio_allocation(df_portfolio, prices_df, weights, BUDGET)"
      ]
    },
    {
      "cell_type": "code",
      "execution_count": null,
      "metadata": {
        "colab": {
          "base_uri": "https://localhost:8080/",
          "height": 696
        },
        "id": "ySuVGnTTP7yU",
        "outputId": "6e6ede22-d5de-481f-8097-9c9c95b0b526"
      },
      "outputs": [],
      "source": [
        "df_portfolio_allocated"
      ]
    },
    {
      "cell_type": "code",
      "execution_count": null,
      "metadata": {
        "colab": {
          "base_uri": "https://localhost:8080/",
          "height": 542
        },
        "id": "_KsCYdgsQUl2",
        "outputId": "2b2b0e4b-12a9-4d8e-cc0c-fa3860f07f5b"
      },
      "outputs": [],
      "source": [
        "fig=px.line(x=df_portfolio_allocated.date, y=df_portfolio_allocated['Portfolio % return'])\n",
        "fig.show()"
      ]
    },
    {
      "cell_type": "code",
      "execution_count": null,
      "metadata": {
        "colab": {
          "base_uri": "https://localhost:8080/",
          "height": 542
        },
        "id": "AVxgV8j6QVIb",
        "outputId": "4e9dbbf9-0cdd-4805-96d7-a1acfe945737"
      },
      "outputs": [],
      "source": [
        "# Plot all stocks (normalized)\n",
        "\n",
        "interactive_plot(df_portfolio_allocated.drop(['Portfolio % return','portfolio daily worth $'], axis=1), title=\"Portfolio Indivual Stocks\")"
      ]
    },
    {
      "cell_type": "code",
      "execution_count": null,
      "metadata": {
        "colab": {
          "base_uri": "https://localhost:8080/",
          "height": 542
        },
        "id": "R9cK-BlYQhPe",
        "outputId": "e6ca353c-13da-46b1-ec9f-059748aec0b1"
      },
      "outputs": [],
      "source": [
        "# Print out a histogram of daily returns\n",
        "fig=px.histogram(df_portfolio_allocated, x='Portfolio % return')\n",
        "fig.show()"
      ]
    },
    {
      "cell_type": "code",
      "execution_count": null,
      "metadata": {
        "id": "lyr39BylSrct"
      },
      "outputs": [],
      "source": [
        "prices_daily_return=daily_return(prices_df)\n",
        "final_prices_daily_return=daily_return(final_prices)"
      ]
    },
    {
      "cell_type": "code",
      "execution_count": null,
      "metadata": {
        "colab": {
          "base_uri": "https://localhost:8080/"
        },
        "id": "fdcJEC04S3_i",
        "outputId": "d405c137-18b2-4788-aa43-e2004d163ccb"
      },
      "outputs": [],
      "source": [
        "prices_daily_return.mean()"
      ]
    },
    {
      "cell_type": "code",
      "execution_count": null,
      "metadata": {
        "colab": {
          "base_uri": "https://localhost:8080/"
        },
        "id": "aZUDtzDYS9nJ",
        "outputId": "1b192415-37c0-4dc0-f199-1fb31b58378a"
      },
      "outputs": [],
      "source": [
        "prices_daily_return.sum(axis=1)"
      ]
    },
    {
      "cell_type": "code",
      "execution_count": null,
      "metadata": {
        "id": "U7H7UU3GD_ra"
      },
      "outputs": [],
      "source": [
        "cols = prices_df.columns[1:]\n",
        "returns_df = prices_df[cols].pct_change()#.dropna()"
      ]
    },
    {
      "cell_type": "code",
      "execution_count": null,
      "metadata": {
        "colab": {
          "base_uri": "https://localhost:8080/",
          "height": 630
        },
        "id": "MCVMqgNCEK7A",
        "outputId": "c448da9d-0000-4f40-d0b5-16086c28d303"
      },
      "outputs": [],
      "source": [
        "prices_daily_return.head(10)"
      ]
    },
    {
      "cell_type": "code",
      "execution_count": null,
      "metadata": {
        "colab": {
          "base_uri": "https://localhost:8080/",
          "height": 456
        },
        "id": "0Jau-oR2ENjV",
        "outputId": "26391cf9-4f76-438e-d536-677d3cabb80c"
      },
      "outputs": [],
      "source": [
        "returns_df.head(10)"
      ]
    },
    {
      "cell_type": "code",
      "execution_count": null,
      "metadata": {
        "id": "9GWFWsXQFHtK"
      },
      "outputs": [],
      "source": [
        "cumulative_returns = (returns_df + 1).prod() - 1"
      ]
    },
    {
      "cell_type": "code",
      "execution_count": null,
      "metadata": {
        "colab": {
          "base_uri": "https://localhost:8080/"
        },
        "id": "93uitZ9mFIX1",
        "outputId": "27607cbc-1bf3-415b-9773-c8ccfedfc373"
      },
      "outputs": [],
      "source": [
        "cumulative_returns"
      ]
    },
    {
      "cell_type": "code",
      "execution_count": null,
      "metadata": {
        "id": "oGjSxGVAKVsZ"
      },
      "outputs": [],
      "source": [
        "risk_free_rate = 0.02  # As an example, 2% annual risk-free rate\n"
      ]
    },
    {
      "cell_type": "code",
      "execution_count": null,
      "metadata": {
        "id": "vgW16WBfKWIJ"
      },
      "outputs": [],
      "source": [
        "daily_risk_free_rate = (1 + risk_free_rate) ** (1/252) - 1  # Assuming 252 trading days per year\n",
        "sharpe_ratio = (returns_df.mean() - daily_risk_free_rate) / returns_df.std() * np.sqrt(252)\n"
      ]
    },
    {
      "cell_type": "code",
      "execution_count": null,
      "metadata": {
        "colab": {
          "base_uri": "https://localhost:8080/"
        },
        "id": "NBM7_TITKXpm",
        "outputId": "4180daa4-f712-49a4-bc79-385b9a3e7593"
      },
      "outputs": [],
      "source": [
        "sharpe_ratio"
      ]
    },
    {
      "cell_type": "markdown",
      "metadata": {
        "id": "LDnDjWyHY4qm"
      },
      "source": [
        "#### CAPM"
      ]
    },
    {
      "cell_type": "code",
      "execution_count": null,
      "metadata": {
        "colab": {
          "base_uri": "https://localhost:8080/",
          "height": 467
        },
        "id": "QNk--2epZCp1",
        "outputId": "2f28249c-30f6-4479-cb1b-937e70cae687"
      },
      "outputs": [],
      "source": [
        "final_prices_daily_return.plot(kind = 'scatter', x = 'IFIX_price', y = 'CACR11_price')"
      ]
    },
    {
      "cell_type": "code",
      "execution_count": null,
      "metadata": {
        "id": "2OvEZEd4rNQB"
      },
      "outputs": [],
      "source": [
        "X = list(final_prices_daily_return['IFIX_price'])\n",
        "Y = list(final_prices_daily_return[asset].fillna(0))"
      ]
    },
    {
      "cell_type": "code",
      "execution_count": null,
      "metadata": {
        "colab": {
          "base_uri": "https://localhost:8080/"
        },
        "id": "1O3bB5BAaIGb",
        "outputId": "3ff1d6d2-595f-470a-fac9-d8046599c5eb"
      },
      "outputs": [],
      "source": [
        "asset = \"CACR11_price\"\n",
        "beta, alpha = np.polyfit(X, Y, 1)\n",
        "print(\"Beta for {} stock is ={}, and the Alpha is {}\".format(asset,beta, alpha))"
      ]
    },
    {
      "cell_type": "code",
      "execution_count": null,
      "metadata": {
        "colab": {
          "base_uri": "https://localhost:8080/",
          "height": 467
        },
        "id": "ayVaqsmcrlPR",
        "outputId": "34982082-06cb-46e7-ec24-9a311117e619"
      },
      "outputs": [],
      "source": [
        "# Now let's plot the scatter plot and the straight line on one plot\n",
        "final_prices_daily_return.plot(kind = 'scatter', x = 'IFIX_price', y = asset)\n",
        "\n",
        "# Straight line equation with alpha and beta parameters\n",
        "# Straight line equation is y = beta * rm + alpha\n",
        "plt.plot(final_prices_daily_return[\"IFIX_price\"], beta*final_prices_daily_return[\"IFIX_price\"]+alpha, '-', color = 'g')"
      ]
    },
    {
      "cell_type": "code",
      "execution_count": null,
      "metadata": {
        "id": "OjO_s0_zw_gl"
      },
      "outputs": [],
      "source": [
        "beta = {}\n",
        "alpha = {}\n",
        "\n",
        "BASE_ASSET = 'IFIX_price'\n",
        "DATE_COL = 'date'\n",
        "\n",
        "for i in final_prices_daily_return.columns:\n",
        "  if i != DATE_COL and i != BASE_ASSET:\n",
        "    # final_prices_daily_return.plot(kind = 'scatter', x = BASE_ASSET, y = i)\n",
        "    b, a = np.polyfit(final_prices_daily_return[BASE_ASSET], final_prices_daily_return[i].fillna(0), 1)\n",
        "    # plt.plot(final_prices_daily_return[BASE_ASSET], b * final_prices_daily_return[BASE_ASSET] + a, '-', color = 'r')\n",
        "\n",
        "    beta[i] = b\n",
        "    alpha[i] = a\n",
        "    # plt.show()"
      ]
    },
    {
      "cell_type": "code",
      "execution_count": null,
      "metadata": {
        "colab": {
          "base_uri": "https://localhost:8080/"
        },
        "id": "hsghXjAlxP8P",
        "outputId": "84df8d36-1c62-4cc1-f283-52a00d2a7869"
      },
      "outputs": [],
      "source": [
        "# beta"
      ]
    },
    {
      "cell_type": "code",
      "execution_count": null,
      "metadata": {
        "colab": {
          "base_uri": "https://localhost:8080/"
        },
        "id": "UD4ZE8LbxRGD",
        "outputId": "d37db108-60e8-42cd-b470-eba08c2d5150"
      },
      "outputs": [],
      "source": [
        "# alpha"
      ]
    },
    {
      "cell_type": "code",
      "execution_count": null,
      "metadata": {
        "id": "jFZs_XH0yYXC"
      },
      "outputs": [],
      "source": [
        "ER = {}\n",
        "\n",
        "rm=final_prices_daily_return[BASE_ASSET].mean()*252\n",
        "rf = 0\n",
        "rm\n",
        "\n",
        "for i in beta.keys():\n",
        "  ER[i] = rf + ( beta[i] * (rm-rf) )"
      ]
    },
    {
      "cell_type": "code",
      "execution_count": null,
      "metadata": {
        "colab": {
          "base_uri": "https://localhost:8080/"
        },
        "id": "j2UMvF5SzB4_",
        "outputId": "0525761e-0433-478f-b140-70e68737d765"
      },
      "outputs": [],
      "source": [
        "ER"
      ]
    },
    {
      "cell_type": "markdown",
      "metadata": {
        "id": "2gVjH34Dw9yk"
      },
      "source": [
        "---"
      ]
    },
    {
      "cell_type": "code",
      "execution_count": null,
      "metadata": {
        "id": "3qTuc-Uaw-ZJ"
      },
      "outputs": [],
      "source": []
    },
    {
      "cell_type": "code",
      "execution_count": null,
      "metadata": {
        "id": "vWc8ofMTHEJc"
      },
      "outputs": [],
      "source": [
        "close_values = [8872.22, 8793.9, 8848.52, 8846.45, 8912.37]"
      ]
    },
    {
      "cell_type": "code",
      "execution_count": null,
      "metadata": {
        "id": "1ssQhqDhHTdh"
      },
      "outputs": [],
      "source": [
        "daily = [(close_values[i+1]/close_values[i])-1 for i, c in enumerate(close_values[:-1])]"
      ]
    },
    {
      "cell_type": "code",
      "execution_count": null,
      "metadata": {
        "colab": {
          "base_uri": "https://localhost:8080/"
        },
        "id": "WEZ0kDL-HqdA",
        "outputId": "549ce581-ee62-4874-93ad-5316bd46bdea"
      },
      "outputs": [],
      "source": [
        "daily\n",
        "\n",
        "budget = 1000\n",
        "\n",
        "cul_ret = [1000]\n",
        "for i, d in enumerate(daily):\n",
        "  v = cul_ret[i]*(1+d)\n",
        "  cul_ret.append(v)\n",
        "\n",
        "cul_ret"
      ]
    },
    {
      "cell_type": "code",
      "execution_count": null,
      "metadata": {
        "id": "T6kCjQlzIji2"
      },
      "outputs": [],
      "source": [
        "pdf = pd.DataFrame(close_values)\n",
        "rdf = pdf.pct_change()\n",
        "cum_returns = (rdf + 1).prod() - 1"
      ]
    },
    {
      "cell_type": "code",
      "execution_count": null,
      "metadata": {
        "colab": {
          "base_uri": "https://localhost:8080/",
          "height": 206
        },
        "id": "j1CzjR9XJjlR",
        "outputId": "68e1b417-a64b-4737-b889-75cc4662d9f2"
      },
      "outputs": [],
      "source": [
        "rdf+1"
      ]
    },
    {
      "cell_type": "code",
      "execution_count": null,
      "metadata": {
        "colab": {
          "base_uri": "https://localhost:8080/"
        },
        "id": "EfqdTWsMJRdl",
        "outputId": "194f8e94-d27c-42ac-a7fc-4388bd34b4b7"
      },
      "outputs": [],
      "source": [
        "(rdf+1).prod()"
      ]
    },
    {
      "cell_type": "code",
      "execution_count": null,
      "metadata": {
        "colab": {
          "base_uri": "https://localhost:8080/"
        },
        "id": "iiqlORWOIs7r",
        "outputId": "56468f1f-d598-4072-f87a-7577d8e57a2f"
      },
      "outputs": [],
      "source": [
        "cum_returns*1"
      ]
    },
    {
      "cell_type": "markdown",
      "metadata": {
        "id": "7oMhKS5hUp2v"
      },
      "source": [
        "# Resultados\n",
        "\n",
        "Aqui você deverá incluir os resultados produzidos pela análise bem como os gráficos, tabelas e resultados numericos obtidos após a análise."
      ]
    },
    {
      "cell_type": "markdown",
      "metadata": {
        "id": "AAp_pmdeU6Xq"
      },
      "source": [
        "# Discussão e Limitações da Pesquisa"
      ]
    },
    {
      "cell_type": "markdown",
      "metadata": {
        "id": "HcDbl4ItU_Kv"
      },
      "source": [
        "# Bibliografia Utilizada"
      ]
    }
  ],
  "metadata": {
    "colab": {
      "collapsed_sections": [
        "dDuUzSpTnPZQ"
      ],
      "provenance": []
    },
    "kernelspec": {
      "display_name": "Python 3",
      "name": "python3"
    },
    "language_info": {
      "codemirror_mode": {
        "name": "ipython",
        "version": 3
      },
      "file_extension": ".py",
      "mimetype": "text/x-python",
      "name": "python",
      "nbconvert_exporter": "python",
      "pygments_lexer": "ipython3",
      "version": "3.12.3"
    }
  },
  "nbformat": 4,
  "nbformat_minor": 0
}
